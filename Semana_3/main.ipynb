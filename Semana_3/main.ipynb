{
 "cells": [
  {
   "cell_type": "code",
   "execution_count": 15,
   "outputs": [],
   "source": [
    "def BubbleSort(A):\n",
    "    c,m=0,0\n",
    "    for i in range(len(A)):\n",
    "        for j in range(len(A)-1-i):\n",
    "            c+=1\n",
    "            if A[j] > A[j+1]:\n",
    "                m+=1\n",
    "                A[j], A[j+1] = A[j+1], A[j]\n",
    "    return c,m"
   ],
   "metadata": {
    "collapsed": false
   }
  },
  {
   "cell_type": "code",
   "execution_count": 23,
   "outputs": [
    {
     "name": "stdout",
     "output_type": "stream",
     "text": [
      "['A', 'A', 'A', 'A', 'A', 'A', 'A', 'A', 'V', 'V', 'V', 'V', 'V', 'V', 'V', 'V']\n",
      "120 36\n",
      "['A', 'A', 'A', 'A', 'A', 'A', 'A', 'A', 'V', 'V', 'V', 'V', 'V', 'V', 'V', 'V']\n",
      "120 0\n",
      "['A', 'A', 'A', 'A', 'A', 'A', 'A', 'A', 'A', 'V', 'V', 'V', 'V', 'V', 'V', 'V', 'V', 'V']\n",
      "153 81\n"
     ]
    }
   ],
   "source": [
    "A = [char for char in \"VAVAVAVAVAVAVAVA\"]\n",
    "c,m = BubbleSort(A)\n",
    "print(A)\n",
    "print(c, m)\n",
    "\n",
    "A = [char for char in \"AAAAAAAAVVVVVVVV\"]\n",
    "c,m = BubbleSort(A)\n",
    "print(A)\n",
    "print(c ,m)\n",
    "\n",
    "A = [char for char in \"VVVVVVVVVAAAAAAAAA\"]\n",
    "c,m = BubbleSort(A)\n",
    "print(A)\n",
    "print(c ,m)\n"
   ],
   "metadata": {
    "collapsed": false
   }
  },
  {
   "cell_type": "code",
   "execution_count": 51,
   "outputs": [],
   "source": [
    "def hasTwoSum(numbers, target):\n",
    "    for i in numbers:\n",
    "        R = len(numbers) -1\n",
    "        L = 0\n",
    "        while L < R:\n",
    "            M=int(L+(R-L)/2)\n",
    "            if numbers[M] > target-i:\n",
    "                R-=1\n",
    "            elif numbers[M] == target-i and i!=M:\n",
    "                return True\n",
    "            else:\n",
    "                L+=1\n",
    "    return False"
   ],
   "metadata": {
    "collapsed": false
   }
  },
  {
   "cell_type": "code",
   "execution_count": 53,
   "outputs": [
    {
     "name": "stdout",
     "output_type": "stream",
     "text": [
      "False\n"
     ]
    }
   ],
   "source": [
    "N=[-1,0,1,2,3,4,5,6,7,8,9,10,445]\n",
    "print(hasTwoSum(N, 30))\n"
   ],
   "metadata": {
    "collapsed": false
   }
  },
  {
   "cell_type": "code",
   "execution_count": null,
   "outputs": [],
   "source": [
    "def mergeSort(A, L, R):\n",
    "    if L>=R:\n",
    "        return A\n",
    "    M=L+(R-L)/2\n",
    "    mergeSort(A,L,M)\n",
    "    mergeSort(A,M+1,R)\n",
    "    merge(A,L,R,M)\n",
    "\n",
    "def merge(A,L,R,M):\n",
    "    "
   ],
   "metadata": {
    "collapsed": false
   }
  }
 ],
 "metadata": {
  "kernelspec": {
   "display_name": "Python 3",
   "language": "python",
   "name": "python3"
  },
  "language_info": {
   "codemirror_mode": {
    "name": "ipython",
    "version": 2
   },
   "file_extension": ".py",
   "mimetype": "text/x-python",
   "name": "python",
   "nbconvert_exporter": "python",
   "pygments_lexer": "ipython2",
   "version": "2.7.6"
  }
 },
 "nbformat": 4,
 "nbformat_minor": 0
}
