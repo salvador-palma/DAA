{
 "cells": [
  {
   "cell_type": "markdown",
   "metadata": {},
   "source": [
    "\n",
    "\n",
    "<font size=\"4\"> Iscte Instituto Universitário de Lisboa </font>\n",
    "  \n",
    "<font size=\"4\"> Desenho e Análise de Algoritmos </font>\n",
    "     \n",
    "<font size=\"3\"> Abril 2023 </font>\n",
    "\n",
    "   \n",
    "<font size=\"5\"> <div class=\"alert alert-block alert-info\"> **Experimentação - Aulas TP 15 e 16** </div></font> \n",
    " \n",
    "\n",
    "\n",
    "# Aulas Semana 8: Grafos e Travessias em Grafos\n"
   ]
  },
  {
   "cell_type": "markdown",
   "metadata": {},
   "source": [
    "### Imports"
   ]
  },
  {
   "cell_type": "code",
   "execution_count": 1,
   "metadata": {},
   "outputs": [],
   "source": [
    "import random as rnd\n"
   ]
  },
  {
   "cell_type": "markdown",
   "metadata": {},
   "source": [
    "### Classes"
   ]
  },
  {
   "cell_type": "code",
   "execution_count": 2,
   "metadata": {},
   "outputs": [],
   "source": [
    "# Class Vertice\n",
    "class Vertex:\n",
    "    '''Estrutura de Nó para um grafo: um elemento que é o identificador deste nó'''\n",
    "\n",
    "    def __init__(self, x):\n",
    "        '''O vértice será inserido no Grafo usando o método insert_vertex(x) que cria um Vertex'''\n",
    "        self._elemento = x\n",
    "\n",
    "    def __hash__(self):\n",
    "        ''' este vértice (o seu identificador) é usado como chave'''\n",
    "        return hash(id(self))  # devolve um inteiro que identifica este vértice como uma chave num dicionário\n",
    "\n",
    "    def __str__(self):\n",
    "        return'{0}'.format(self._elemento)\n",
    "\n",
    "    def __eq__(self, x):\n",
    "        return x == self._elemento\n",
    "\n",
    "    def vertice(self):\n",
    "        '''Devolve o nome deste vértice'''\n",
    "        return self._elemento\n",
    "\n",
    "\n",
    "# #### Class Edge\n",
    "class Edge:\n",
    "    '''Estrutura de Aresta para um Grafo: (origem, destino) e peso '''\n",
    "\n",
    "    def __init__(self, u, v, p):\n",
    "        self._ant = u\n",
    "        self._suc = v\n",
    "        self._weight = p\n",
    "\n",
    "    def __hash__(self):\n",
    "        # para associar a aresta a uma chave para um dicionário\n",
    "        return hash( (self._ant, self._suc) )\n",
    "\n",
    "    def __str__(self):\n",
    "        '''Mostra a Aresta para um Grafo: (origem, destino) - peso '''\n",
    "        return'({0},{1})-{2} '.format(self._ant, self._suc, self._weight)\n",
    "\n",
    "    def __eq__(self, other):\n",
    "        # define igualdade de duas arestas\n",
    "        return self._ant == other._ant and self._suc == other._suc\n",
    "\n",
    "    def endpoints(self):\n",
    "        '''devolve (u,v) para indicar os vértices antecessor e sucessor.'''\n",
    "        return (self._ant, self._suc)\n",
    "\n",
    "    def opposite(self, v):\n",
    "        '''Indica o vértice oposto ao v neste arco; v tem de ser um dos vértices.'''\n",
    "        return self._suc if v is self._ant else self._ant\n",
    "\n",
    "    def cost(self):\n",
    "        '''Devolve o peso associado a este arco.'''\n",
    "        return self._weight\n",
    "\n",
    "    def show_edge(self):\n",
    "        print('(',self._ant, ', ', self._suc, ') com peso', self._weight)       "
   ]
  },
  {
   "cell_type": "code",
   "execution_count": 3,
   "metadata": {},
   "outputs": [],
   "source": [
    "#  ### Classe Grafo\n",
    "class Graph(Vertex, Edge):\n",
    "    '''Representação de um grafo usando mapeamentos de adjacências (associações) - dictionaries'''\n",
    "\n",
    "    def __init__(self, directed=False):\n",
    "        '''Cria um grafo vazio (dicionário de _vertices); é orientado se o parâmetro directed tiver o valor True'''\n",
    "        self._directed = directed\n",
    "        self._n = 0                 # quantidade de nós no Grafo\n",
    "        self._m = 0                 # quantidade de arcos no Grafo\n",
    "        self._vertices = {}         # dicionário com chave vértice e valor dicionário de adjacências\n",
    "\n",
    "    def insert_vertex(self, x):\n",
    "        '''Insere e devolve um novo vértice com o elemento x'''\n",
    "        v = Vertex(x)\n",
    "        self._vertices[v] = {}      # inicializa o dicionário de adjacências deste vértice a vazio\n",
    "        self._n +=1                 # mais um vértice no grafo\n",
    "        return v\n",
    "\n",
    "    def insert_edge(self, u, v, x):\n",
    "        '''Cria e insere uma nova aresta entre u e v com peso x'''\n",
    "        e = Edge(u, v, x)\n",
    "        self._vertices[u][v] = e  # vai colocar nas adjacências de u\n",
    "        self._vertices[v][u] = e  # e nas adjacências de v (para facilitar a procura de todos os arcos incidentes em ou originários de)\n",
    "        self._m +=1\n",
    "\n",
    "    def is_directed(self):\n",
    "        '''com base na criação original da instância, devolve True se o Grafo é dirigido; False senão '''\n",
    "        return self._directed  # True se os dois contentores são distintos\n",
    "\n",
    "    def order(self):\n",
    "        '''Ordem de um grafo: a quantidade de vértices no Grafo'''\n",
    "        return self._n\n",
    "\n",
    "    def vertices(self):\n",
    "        '''Devolve um iterável sobre todos os vértices do Grafo'''\n",
    "        return self._vertices.keys()\n",
    "\n",
    "    def size(self):\n",
    "        '''Dimensão de um grafo: a quantidade total de arestas do Grafo'''\n",
    "        return self._m\n",
    "\n",
    "    def set_of_edges(self):\n",
    "        '''Devolve o conjunto (set) de todas as arestas do Grafo'''\n",
    "        result = set()      # avoid double-reporting edges in undirected graph\n",
    "        for secondary_map in self._vertices.values():\n",
    "            result.update(secondary_map.values())  # add edges to resulting set\n",
    "        return result\n",
    "\n",
    "\n",
    "    def degree(self, v, outgoing=True):\n",
    "        '''Quantidade de arestas originárias ou incidentes no vértice v \n",
    "           Se for um grafo dirigido, conta as arestas outgoing ou incoming, \n",
    "           de acordo com o valor de outgoing (True or False)\n",
    "        '''\n",
    "        adj = self._vertices\n",
    "        if not self._directed:\n",
    "            count = len(adj[v])\n",
    "        else:\n",
    "            count = 0\n",
    "            for edge in adj[v].values():\n",
    "                x, y = edge.endpoints()\n",
    "                if (outgoing and x == v) or (not outgoing and y == v):\n",
    "                    count += 1                \n",
    "        return count\n",
    "\n",
    "\n",
    "    def get_edge(self, u, v):\n",
    "        '''Método interno: Devolve a aresta que liga u a v ou None se não forem adjacentes'''  \n",
    "        edge = self._vertices[u].get(v)     # returns None se não existir aresta entre u e v\n",
    "        if edge and self._directed: # se é dirigido\n",
    "            x = edge.endpoints()        # vai confirmar se é o arco u --> v\n",
    "            if x[1] != v:\n",
    "                edge = None\n",
    "        return edge\n",
    "    \n",
    "    def remove_edge(self, u, v):\n",
    "        '''Remove a aresta entre u e v '''\n",
    "        if  u in self._vertices.keys() and v in self._vertices[u].keys():\n",
    "            del self._vertices[u][v]\n",
    "            del self._vertices[v][u]\n",
    "            self._m -=1\n",
    "\n",
    "    def remove_vertex(self, v):\n",
    "        '''remove o vértice v'''\n",
    "        # remover todas as arestas de [v]\n",
    "        # remover todas as arestas com v noutros vertices\n",
    "        # remover o vértice v\n",
    "        if v in self._vertices.keys():\n",
    "            lst = [i for i in self.incident_edges(v)]\n",
    "            for i in lst:\n",
    "                x, y = i.endpoints()\n",
    "                self.remove_edge(x,y)\n",
    "            del self._vertices[v]\n",
    "            self._n -=1\n",
    "        #return v\n",
    "\n",
    "\n",
    "    #outros métodos auxiliares#\n",
    "    def incident_edges(self, v, incoming=True):\n",
    "        '''Gerador: indica todas as arestas incoming de v\n",
    "           Se for um grafo dirigido e incoming for False, devolve as arestas outgoing\n",
    "        '''\n",
    "        for edge in self._vertices[v].values(): # para todas as arestas relativas a v:\n",
    "            if not self._directed:\n",
    "                    yield edge\n",
    "            else:  # senão deve ir procurar em todas as arestas para saber quais entram ou saiem\n",
    "                x, y = edge.endpoints()\n",
    "                if (incoming and y == v) or (not incoming and x == v):\n",
    "                    yield edge\n",
    "\n",
    "    def printG(self):\n",
    "        '''Mostra o grafo por linhas'''\n",
    "        if self._n == 0:\n",
    "            print('O grafo está vazio!')\n",
    "        else:\n",
    "            print('Grafo orientado:', self._directed)\n",
    "            for v in self.vertices():\n",
    "                print('\\nvertex ', v, ' grau_in: ', self.degree(v,False), end=' ')# mostra o grau (de entrada, se orientado)\n",
    "                for i in self.incident_edges(v):\n",
    "                    print(' ', i, end=' ')\n",
    "                if self._directed:          # se orientado, mostrar o grau de saída\n",
    "                    print('\\n \\t   grau_out: ', self.degree(v, True), end=' ')\n",
    "                    for i in self.incident_edges(v, False):    # e mostra os arcos de saída\n",
    "                        print(' ', i, end=' ')\n",
    "            \n",
    "\n"
   ]
  },
  {
   "cell_type": "markdown",
   "metadata": {},
   "source": [
    "#### Alguns testes à classe Graph"
   ]
  },
  {
   "cell_type": "code",
   "execution_count": 4,
   "metadata": {},
   "outputs": [],
   "source": [
    "g = Graph() # Criar um Grafo não orientado\n",
    "lst = [i for i in range(0, 10)]\n",
    "vert = []                  # lista auxiliar para guardar os vértices inseridos para construção das arestas\n",
    "for i in lst:\n",
    "    vert.append(g.insert_vertex(i))  # inserção dos 10 vertices V = {0, 1, ..., 9} no grafo e na lista de vertices\n",
    "\n",
    "rnd.seed(10)                # para futura replicação deste grafo\n",
    "for i in range(1, 21):                      # criação de 20 arestas a partir dos vértices inseridos\n",
    "    u, v = rnd.sample(lst, k=2)             # gerar aleatoriamente uma aresta entre 2 vértices deste grafo\n",
    "    x = rnd.randint(1, 10)                  # com peso inteiro aleatório entre 0 e 10\n",
    "    g.insert_edge(vert[u], vert[v], x)      # inserção desta aresta no grafo\n"
   ]
  },
  {
   "cell_type": "code",
   "execution_count": 5,
   "metadata": {},
   "outputs": [
    {
     "name": "stdout",
     "output_type": "stream",
     "text": [
      "Grafo orientado: False\n",
      "\n",
      "vertex  0  grau_in:  4   (9,0)-4    (7,0)-4    (2,0)-9    (3,0)-1  \n",
      "vertex  1  grau_in:  0 \n",
      "vertex  2  grau_in:  5   (2,0)-9    (6,2)-10    (2,4)-6    (2,7)-4    (2,3)-7  \n",
      "vertex  3  grau_in:  3   (3,5)-1    (2,3)-7    (3,0)-1  \n",
      "vertex  4  grau_in:  2   (4,9)-8    (2,4)-6  \n",
      "vertex  5  grau_in:  5   (7,5)-2    (3,5)-1    (5,6)-7    (5,8)-8    (9,5)-9  \n",
      "vertex  6  grau_in:  3   (6,2)-10    (5,6)-7    (6,7)-2  \n",
      "vertex  7  grau_in:  5   (7,0)-4    (7,9)-5    (7,5)-2    (2,7)-4    (6,7)-2  \n",
      "vertex  8  grau_in:  1   (5,8)-8  \n",
      "vertex  9  grau_in:  4   (9,0)-4    (7,9)-5    (4,9)-8    (9,5)-9  "
     ]
    }
   ],
   "source": [
    "g.printG()\n"
   ]
  },
  {
   "cell_type": "code",
   "execution_count": 6,
   "metadata": {},
   "outputs": [
    {
     "name": "stdout",
     "output_type": "stream",
     "text": [
      "Grafo orientado: False\n",
      "\n",
      "vertex  0  grau_in:  3   (9,0)-4    (7,0)-4    (3,0)-1  \n",
      "vertex  1  grau_in:  0 \n",
      "vertex  3  grau_in:  2   (3,5)-1    (3,0)-1  \n",
      "vertex  4  grau_in:  1   (4,9)-8  \n",
      "vertex  5  grau_in:  5   (7,5)-2    (3,5)-1    (5,6)-7    (5,8)-8    (9,5)-9  \n",
      "vertex  6  grau_in:  1   (5,6)-7  \n",
      "vertex  7  grau_in:  3   (7,0)-4    (7,9)-5    (7,5)-2  \n",
      "vertex  8  grau_in:  1   (5,8)-8  \n",
      "vertex  9  grau_in:  4   (9,0)-4    (7,9)-5    (4,9)-8    (9,5)-9  "
     ]
    }
   ],
   "source": [
    "# teste à remoção de vértices e arestas\n",
    "g.remove_vertex(vert[2])                  \n",
    "g.remove_edge(vert[6],vert[7])\n",
    "g.printG()\n"
   ]
  },
  {
   "cell_type": "code",
   "execution_count": 7,
   "metadata": {},
   "outputs": [
    {
     "name": "stdout",
     "output_type": "stream",
     "text": [
      "O grafo está vazio!\n"
     ]
    }
   ],
   "source": [
    "# teste à remoção total (seria preferível fazer um método clear_graph...)\n",
    "for i in lst:\n",
    "    g.remove_vertex(vert[i])\n",
    "g.printG()\n"
   ]
  },
  {
   "cell_type": "code",
   "execution_count": 8,
   "metadata": {},
   "outputs": [
    {
     "name": "stdout",
     "output_type": "stream",
     "text": [
      "Grafo orientado: True\n",
      "\n",
      "vertex  0  grau_in:  3   (3,0)-6    (5,0)-5    (8,0)-6  \n",
      " \t   grau_out:  3   (0,6)-9    (0,9)-8    (0,7)-2  \n",
      "vertex  1  grau_in:  3   (4,1)-4    (5,1)-9    (9,1)-9  \n",
      " \t   grau_out:  2   (1,3)-2    (1,8)-10  \n",
      "vertex  2  grau_in:  3   (7,2)-3    (9,2)-9    (3,2)-5  \n",
      " \t   grau_out:  1   (2,8)-6  \n",
      "vertex  3  grau_in:  4   (1,3)-2    (6,3)-3    (5,3)-5    (7,3)-10  \n",
      " \t   grau_out:  2   (3,0)-6    (3,2)-5  \n",
      "vertex  4  grau_in:  0 \n",
      " \t   grau_out:  4   (4,1)-4    (4,7)-2    (4,8)-3    (4,9)-5  \n",
      "vertex  5  grau_in:  2   (7,5)-3    (6,5)-2  \n",
      " \t   grau_out:  5   (5,9)-6    (5,8)-1    (5,0)-5    (5,1)-9    (5,3)-5  \n",
      "vertex  6  grau_in:  2   (0,6)-9    (8,6)-1  \n",
      " \t   grau_out:  2   (6,5)-2    (6,3)-3  \n",
      "vertex  7  grau_in:  2   (4,7)-2    (0,7)-2  \n",
      " \t   grau_out:  3   (7,5)-3    (7,2)-3    (7,3)-10  \n",
      "vertex  8  grau_in:  4   (5,8)-1    (1,8)-10    (2,8)-6    (4,8)-3  \n",
      " \t   grau_out:  3   (8,0)-6    (8,9)-2    (8,6)-1  \n",
      "vertex  9  grau_in:  4   (5,9)-6    (0,9)-8    (8,9)-2    (4,9)-5  \n",
      " \t   grau_out:  2   (9,2)-9    (9,1)-9  "
     ]
    }
   ],
   "source": [
    "# Agora um teste a um grafo orientado:\n",
    "g1 = Graph(True)\n",
    "vert = []    \n",
    "for i in lst:\n",
    "    vert.append(g1.insert_vertex(i))  # inserção de 10 vertices V = {0, 1, ..., 9} no grafo e na lista de vertices\n",
    "    \n",
    "rnd.seed(170)                # para futura replicação deste grafo\n",
    "for i in range(1, 41):                      # criação de 40 arestas a partir dos vértices inseridos\n",
    "    u, v = rnd.sample(lst, k=2)             # gerar aleatoriamente uma aresta entre 2 vértices deste grafo\n",
    "    x = rnd.randint(1, 10)                  # com peso inteiro aleatório entre 0 e 10\n",
    "    g1.insert_edge(vert[u], vert[v], x)      # inserção desta aresta no grafo\n",
    "    \n",
    "g1.printG()"
   ]
  },
  {
   "cell_type": "code",
   "execution_count": 9,
   "metadata": {},
   "outputs": [
    {
     "name": "stdout",
     "output_type": "stream",
     "text": [
      "10\n"
     ]
    }
   ],
   "source": [
    "print(g1.order())\n"
   ]
  },
  {
   "cell_type": "code",
   "execution_count": 10,
   "metadata": {},
   "outputs": [
    {
     "data": {
      "text/plain": [
       "40"
      ]
     },
     "execution_count": 10,
     "metadata": {},
     "output_type": "execute_result"
    }
   ],
   "source": [
    "g1.size()"
   ]
  },
  {
   "cell_type": "code",
   "execution_count": 11,
   "metadata": {},
   "outputs": [
    {
     "name": "stdout",
     "output_type": "stream",
     "text": [
      "Grafo orientado: True\n",
      "\n",
      "vertex  0  grau_in:  3   (3,0)-6    (5,0)-5    (8,0)-6  \n",
      " \t   grau_out:  3   (0,6)-9    (0,9)-8    (0,7)-2  \n",
      "vertex  1  grau_in:  3   (4,1)-4    (5,1)-9    (9,1)-9  \n",
      " \t   grau_out:  2   (1,3)-2    (1,8)-10  \n",
      "vertex  2  grau_in:  3   (7,2)-3    (9,2)-9    (3,2)-5  \n",
      " \t   grau_out:  1   (2,8)-6  \n",
      "vertex  3  grau_in:  4   (1,3)-2    (6,3)-3    (5,3)-5    (7,3)-10  \n",
      " \t   grau_out:  2   (3,0)-6    (3,2)-5  \n",
      "vertex  4  grau_in:  0 \n",
      " \t   grau_out:  4   (4,1)-4    (4,7)-2    (4,8)-3    (4,9)-5  \n",
      "vertex  5  grau_in:  2   (7,5)-3    (6,5)-2  \n",
      " \t   grau_out:  5   (5,9)-6    (5,8)-1    (5,0)-5    (5,1)-9    (5,3)-5  \n",
      "vertex  6  grau_in:  1   (0,6)-9  \n",
      " \t   grau_out:  2   (6,5)-2    (6,3)-3  \n",
      "vertex  7  grau_in:  2   (4,7)-2    (0,7)-2  \n",
      " \t   grau_out:  3   (7,5)-3    (7,2)-3    (7,3)-10  \n",
      "vertex  8  grau_in:  4   (5,8)-1    (1,8)-10    (2,8)-6    (4,8)-3  \n",
      " \t   grau_out:  2   (8,0)-6    (8,9)-2  \n",
      "vertex  9  grau_in:  4   (5,9)-6    (0,9)-8    (8,9)-2    (4,9)-5  \n",
      " \t   grau_out:  2   (9,2)-9    (9,1)-9  "
     ]
    }
   ],
   "source": [
    "# teste à remoção de vértices e arestas                 \n",
    "g1.remove_edge(vert[8],vert[6])\n",
    "g1.printG()\n",
    "\n"
   ]
  },
  {
   "cell_type": "code",
   "execution_count": 12,
   "metadata": {},
   "outputs": [
    {
     "name": "stdout",
     "output_type": "stream",
     "text": [
      "Ordem: 10 Tamanho: 39\n"
     ]
    }
   ],
   "source": [
    "print('Ordem:', g1.order(),'Tamanho:',g1.size())"
   ]
  },
  {
   "cell_type": "code",
   "execution_count": 13,
   "metadata": {},
   "outputs": [
    {
     "name": "stdout",
     "output_type": "stream",
     "text": [
      "None\n"
     ]
    }
   ],
   "source": [
    "print(g1.get_edge(vert[8],vert[6]))"
   ]
  },
  {
   "cell_type": "code",
   "execution_count": 14,
   "metadata": {},
   "outputs": [
    {
     "name": "stdout",
     "output_type": "stream",
     "text": [
      "(9,1)-9 \n"
     ]
    }
   ],
   "source": [
    "print(g1.get_edge(vert[9],vert[1]))"
   ]
  },
  {
   "cell_type": "code",
   "execution_count": null,
   "metadata": {},
   "outputs": [],
   "source": []
  }
 ],
 "metadata": {
  "kernelspec": {
   "display_name": "Python 3",
   "language": "python",
   "name": "python3"
  },
  "language_info": {
   "codemirror_mode": {
    "name": "ipython",
    "version": 3
   },
   "file_extension": ".py",
   "mimetype": "text/x-python",
   "name": "python",
   "nbconvert_exporter": "python",
   "pygments_lexer": "ipython3",
   "version": "3.7.4"
  }
 },
 "nbformat": 4,
 "nbformat_minor": 2
}
