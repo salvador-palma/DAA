{
 "cells": [
  {
   "cell_type": "markdown",
   "source": [
    "PseudoCodigo\n",
    "\n",
    "funcao Procurar(lista, elemento, index=0)\n",
    "    if index>= len(lista): return -1\n",
    "\n",
    "    if lista[index]==elemento:\n",
    "        return index\n",
    "    else:\n",
    "        return Procurar(lista, elemento, index+1)\n",
    "\n",
    "\n",
    "T(n) = T(n-1) + 2\n",
    "T(n-1) = (T(n-2) + 2) + 2\n",
    "\n",
    "2n = O(n)"
   ],
   "metadata": {
    "collapsed": false
   }
  },
  {
   "cell_type": "code",
   "execution_count": null,
   "outputs": [],
   "source": [
    "def BinarySearch(l, t):\n",
    "    R=len(l)\n",
    "    L=0\n",
    "    while L<R:\n",
    "        M=L+(R-L)/2\n",
    "        if l[M] > t:\n",
    "            R=M\n",
    "        elif l[M] < t:\n",
    "            L=M+1\n",
    "        else:\n",
    "            return M\n",
    "    return -1"
   ],
   "metadata": {
    "collapsed": false
   }
  },
  {
   "cell_type": "markdown",
   "source": [
    "BinarySearch(list, target):\n",
    "    definir boundaries por onde se procura o target\n",
    "    L=0, R = n\n",
    "    enquanto o Boundary esquerdo for menor que o Direito:\n",
    "        Obter o elemento a meio deles\n",
    "\n",
    "        Se o elemento for maior que o target\n",
    "            indica que caso exista solucao, estara a esquerda do elemento do meio\n",
    "        Se o elemento for menor que o target\n",
    "            indica que caso exista solucao, estara a direita do elemento do meio\n",
    "        Se o elemento for igual ao target\n",
    "            Encontramos uma solucao\n",
    "\n",
    "    caso o codigo chegue aqui quer dizer que nao encontramos nenhuma solucao\n",
    "\n",
    "\n",
    "Estrategia geral: Divide and Conquer e Dynamic Programming\n",
    "\n",
    "\n",
    "No melhor caso o elemento do meio sera imediatamente o target, resultando em apenas 1 iteracao qualquer que seja o numero de elementos (O(1))\n",
    "\n",
    "No pior caso nao existe nenhum elemento igual ao target no array, e entao teremos que partir o array em 2 ate que a particao obtida tiver tamanho de um.\n",
    "\n",
    "T(n) = T(n/2) + 2          n>1\n",
    "T(n) = 1                   n=1\n",
    "\n",
    "T(n) = T(n/2) + 2 = T(n/2^2) + 2 + 2\n",
    "= T(n/2^k) + 2k   ate n/2^k = 1  <=> n = 2^k <=> k = log2(n)\n",
    "\n",
    "= T(1) + 2log2(n)\n",
    "= 1 + 2log2(n) = O(log(n))\n",
    "\n",
    "\n",
    "No caso medio encontrariamos o elemento em cerca de metade das iteracoes, ou seja, podemos dividir o pior caso (percorre todas as iteracoes) por 2, resultando em 1/2 + log2(n) que continua a ser O(log(n))\n",
    "\n"
   ],
   "metadata": {
    "collapsed": false
   }
  }
 ],
 "metadata": {
  "kernelspec": {
   "display_name": "Python 3",
   "language": "python",
   "name": "python3"
  },
  "language_info": {
   "codemirror_mode": {
    "name": "ipython",
    "version": 2
   },
   "file_extension": ".py",
   "mimetype": "text/x-python",
   "name": "python",
   "nbconvert_exporter": "python",
   "pygments_lexer": "ipython2",
   "version": "2.7.6"
  }
 },
 "nbformat": 4,
 "nbformat_minor": 0
}
