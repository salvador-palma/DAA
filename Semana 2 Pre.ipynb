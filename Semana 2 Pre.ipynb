{
 "cells": [
  {
   "cell_type": "code",
   "execution_count": 332,
   "outputs": [],
   "source": [
    "import random\n",
    "import random as rnd\n",
    "import time\n",
    "\n",
    "import numpy as np"
   ],
   "metadata": {
    "collapsed": false
   }
  },
  {
   "cell_type": "code",
   "execution_count": 333,
   "outputs": [],
   "source": [
    "def rndList(n):\n",
    "    val = []\n",
    "    for i in range(n):\n",
    "        val.append(rnd.randint(1,10000))\n",
    "    return val"
   ],
   "metadata": {
    "collapsed": false
   }
  },
  {
   "cell_type": "code",
   "execution_count": 334,
   "outputs": [
    {
     "name": "stdout",
     "output_type": "stream",
     "text": [
      "[8206, 7676, 6077, 433, 1881, 8664, 4259, 6204, 2020, 1985]\n",
      "<class 'list'>\n"
     ]
    }
   ],
   "source": [
    "x = rndList(10)\n",
    "print(x)\n",
    "print(type(x))"
   ],
   "metadata": {
    "collapsed": false
   }
  },
  {
   "cell_type": "code",
   "execution_count": 335,
   "outputs": [],
   "source": [
    "def rndArray(n):\n",
    "    a = np.zeros(n)\n",
    "    for i in range(n):\n",
    "        a[i] = rnd.randint(1,10000)\n",
    "    return a\n",
    "\n"
   ],
   "metadata": {
    "collapsed": false
   }
  },
  {
   "cell_type": "code",
   "execution_count": 336,
   "outputs": [
    {
     "name": "stdout",
     "output_type": "stream",
     "text": [
      "[6323. 8441. 3089. 5469. 7818. 6846. 2876. 7273. 9743. 2859.]\n",
      "<class 'numpy.ndarray'>\n"
     ]
    }
   ],
   "source": [
    "x = rndArray(10)\n",
    "print(x)\n",
    "print(type(x))"
   ],
   "metadata": {
    "collapsed": false
   }
  },
  {
   "cell_type": "code",
   "execution_count": 337,
   "outputs": [],
   "source": [
    "def rndSet(n):\n",
    "    a = set()\n",
    "    for i in range(n):\n",
    "        a.add(rnd.randint(1,10000))\n",
    "    return a"
   ],
   "metadata": {
    "collapsed": false
   }
  },
  {
   "cell_type": "code",
   "execution_count": 338,
   "outputs": [
    {
     "name": "stdout",
     "output_type": "stream",
     "text": [
      "{1058, 392, 7228, 2510, 9585, 5556, 6261, 1558, 4183, 7804}\n",
      "<class 'set'>\n"
     ]
    }
   ],
   "source": [
    "x = rndSet(10)\n",
    "print(x)\n",
    "print(type(x))"
   ],
   "metadata": {
    "collapsed": false
   }
  },
  {
   "cell_type": "code",
   "execution_count": 339,
   "outputs": [],
   "source": [
    "def searchIn( list, n):\n",
    "    return n in list\n",
    "\n",
    "def searchLinear( list, n):\n",
    "    for i in list:\n",
    "        if i == n:\n",
    "            return True\n",
    "    return False\n",
    "\n",
    "def searchBinary( l, n):\n",
    "    nl = sorted(list(l))\n",
    "    L=0\n",
    "    R=len(l)-1\n",
    "    if nl[0] > n or nl[-1] < n: return False\n",
    "    while L<R:\n",
    "        M = int(L + (R-L)/2)\n",
    "        if nl[M] > n :\n",
    "            R = M\n",
    "        elif nl[M] < n:\n",
    "            L = M + 1\n",
    "        else:\n",
    "            return True\n",
    "    return False"
   ],
   "metadata": {
    "collapsed": false
   }
  },
  {
   "cell_type": "code",
   "execution_count": 340,
   "outputs": [
    {
     "name": "stdout",
     "output_type": "stream",
     "text": [
      "{1, 100, 4, 8, 10, 2478, 400, 50}\n",
      "False\n",
      "False\n",
      "False\n"
     ]
    }
   ],
   "source": [
    "a = {1,4,8,10,50,100,400,2478}\n",
    "n = 51\n",
    "print(a)\n",
    "print(searchIn(a,n))\n",
    "print(searchLinear(a,n))\n",
    "print(searchBinary(a,n))"
   ],
   "metadata": {
    "collapsed": false
   }
  },
  {
   "cell_type": "code",
   "execution_count": 341,
   "outputs": [],
   "source": [
    "def medianTime(f, arr, n, t):\n",
    "    totalTime = 0.0\n",
    "    for i in range(t):\n",
    "        start = time.time()\n",
    "        f(arr, n)\n",
    "        end = time.time()\n",
    "        totalTime+= end - start\n",
    "    return totalTime/t"
   ],
   "metadata": {
    "collapsed": false
   }
  },
  {
   "cell_type": "code",
   "execution_count": 342,
   "outputs": [],
   "source": [
    "def checkTimes(l , n):\n",
    "    print(\"In: %.50f\" % medianTime(searchIn, l, n, 350))\n",
    "    print(\"Linear: %.50f\" % medianTime(searchLinear, l, n, 350))\n",
    "    print(\"Binary: %.50f\" % medianTime(searchBinary, l, n, 350))"
   ],
   "metadata": {
    "collapsed": false
   }
  },
  {
   "cell_type": "code",
   "execution_count": 343,
   "outputs": [
    {
     "name": "stdout",
     "output_type": "stream",
     "text": [
      "In: 0.00000725201198032924088750141716763764065944997128\n",
      "Linear: 0.00007396425519670759586837033294770549218810629100\n",
      "Binary: 0.00004871027810232979961052243722541277293203165755\n",
      "In: 0.00000285761696951729911924332781791857627240460715\n",
      "Linear: 0.00007886409759521483724478696508697339595528319478\n",
      "Binary: 0.00005216462271554129278422484716770668455865234137\n",
      "In: 0.00000571863991873604869572685419076840673824335681\n",
      "Linear: 0.00002305167061941964227632026473990833892457885668\n",
      "Binary: 0.00004877771650041852984471327236981608166388468817\n"
     ]
    }
   ],
   "source": [
    "checkTimes(np.arange(1000), -1)\n",
    "checkTimes(np.arange(1000), 10100)\n",
    "\n",
    "a = np.arange(1000)\n",
    "checkTimes(a, random.choice(a))"
   ],
   "metadata": {
    "collapsed": false
   }
  }
 ],
 "metadata": {
  "kernelspec": {
   "display_name": "Python 3",
   "language": "python",
   "name": "python3"
  },
  "language_info": {
   "codemirror_mode": {
    "name": "ipython",
    "version": 2
   },
   "file_extension": ".py",
   "mimetype": "text/x-python",
   "name": "python",
   "nbconvert_exporter": "python",
   "pygments_lexer": "ipython2",
   "version": "2.7.6"
  }
 },
 "nbformat": 4,
 "nbformat_minor": 0
}
