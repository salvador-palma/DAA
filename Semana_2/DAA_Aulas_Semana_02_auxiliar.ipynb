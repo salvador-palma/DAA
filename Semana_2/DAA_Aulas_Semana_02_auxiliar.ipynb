{
 "cells": [
  {
   "cell_type": "markdown",
   "metadata": {
    "id": "yddK3ltJwrfT"
   },
   "source": [
    "**Fonte:** Ana Maria de Almeida, usando algum código de de Mary Wotters + Nima Anari + Moses Charikar.\n"
   ]
  },
  {
   "cell_type": "markdown",
   "metadata": {
    "id": "ZhgRn8OUwrfW"
   },
   "source": [
    "\n",
    "\n",
    "<font size=\"4\"> Iscte Instituto Universitário de Lisboa </font>\n",
    "  \n",
    "<font size=\"4\"> Desenho e Análise de Algoritmos </font>\n",
    "     \n",
    "<font size=\"3\">Fevereiro de 2022 </font>\n",
    "\n",
    "   \n",
    "<font size=\"5\"> <div class=\"alert alert-block alert-info\"> **Experimentação - Aulas TP 2 e 3** </div></font> \n",
    " \n",
    "\n",
    "\n",
    "# Aula 2: Fibonacci"
   ]
  },
  {
   "cell_type": "markdown",
   "metadata": {},
   "source": [
    "Vamos começar com a preparação deste notebook: importação de bibliotecas.\n"
   ]
  },
  {
   "cell_type": "code",
   "execution_count": 5,
   "metadata": {
    "id": "kBKx33jOwrfY"
   },
   "outputs": [],
   "source": [
    "%matplotlib inline\n",
    "import matplotlib\n",
    "import numpy as np\n",
    "import matplotlib.pyplot as plt\n",
    "from random import shuffle\n",
    "from testar import tryItABunch"
   ]
  },
  {
   "cell_type": "markdown",
   "metadata": {},
   "source": [
    "Primeiro, vamos implementar o algoritmo recursivo da aula 3 - fiboR:"
   ]
  },
  {
   "cell_type": "code",
   "execution_count": 6,
   "metadata": {},
   "outputs": [
    {
     "data": {
      "text/plain": "[0, 1, 1, 2, 3, 5, 8, 13, 21, 34, 55, 89, 144, 233, 377, 610, 987, 1597, 2584]"
     },
     "execution_count": 6,
     "metadata": {},
     "output_type": "execute_result"
    }
   ],
   "source": [
    "def fiboR(n):\n",
    "    if n in {0, 1}:\n",
    "        return n\n",
    "    elif n > 1:\n",
    "        return fiboR(n-1)+fiboR(n-2)\n",
    "\n",
    "[fiboR(n) for n in range(19)]"
   ]
  },
  {
   "cell_type": "markdown",
   "metadata": {},
   "source": [
    "Easy!\n",
    "Avancemos para o segundo algoritmo: fiboP"
   ]
  },
  {
   "cell_type": "code",
   "execution_count": 7,
   "metadata": {},
   "outputs": [
    {
     "data": {
      "text/plain": "[0, 1, 1, 2, 3, 5, 8, 13, 21, 34, 55, 89, 144, 233, 377, 610, 987, 1597, 2584]"
     },
     "execution_count": 7,
     "metadata": {},
     "output_type": "execute_result"
    }
   ],
   "source": [
    "def fiboP(n):\n",
    "    if n == 0 or n == 1:\n",
    "        return n\n",
    "    elif n > 1:\n",
    "        fib_i = [0,1]\n",
    "        for i in range(2, n+1):\n",
    "            fib_i.insert(i, fib_i[i-1]+fib_i[i-2])\n",
    "        return fib_i[n]\n",
    "\n",
    "[fiboP(n) for n in range(19)]"
   ]
  },
  {
   "cell_type": "code",
   "execution_count": 9,
   "metadata": {},
   "outputs": [],
   "source": [
    "#Vamos executar os dois códigos umas 5 vezes (em casa podem experimentar mais)\n",
    "nValuesR, tValuesR = tryItABunch( fiboR, startN = 10, endN = 40, stepSize= 5, numTrials=5)\n",
    "nValuesP, tValuesP = tryItABunch( fiboP, startN = 10, endN = 40, stepSize= 5, numTrials=5)"
   ]
  },
  {
   "cell_type": "code",
   "execution_count": 10,
   "metadata": {},
   "outputs": [
    {
     "data": {
      "text/plain": "Text(0.5, 1.0, 'Implementações para Fibonacci')"
     },
     "execution_count": 10,
     "metadata": {},
     "output_type": "execute_result"
    },
    {
     "data": {
      "text/plain": "<Figure size 640x480 with 1 Axes>",
      "image/png": "[encoded data removed]"
     },
     "metadata": {},
     "output_type": "display_data"
    }
   ],
   "source": [
    "\n",
    "plt.plot(nValuesR, tValuesR, color=\"red\", label=\"FiboR\")\n",
    "plt.plot(nValuesP, tValuesP, color=\"blue\", label=\"FiboP\")\n",
    "plt.xlabel(\"n\")\n",
    "plt.ylabel(\"Time(ms)\")\n",
    "plt.legend()\n",
    "plt.title(\"Implementações para Fibonacci\")"
   ]
  },
  {
   "cell_type": "markdown",
   "metadata": {},
   "source": [
    "Qual será a ordem de complexidade (a.k.a, ordem de eficiência) do algoritmo **fiboR**?"
   ]
  },
  {
   "cell_type": "markdown",
   "metadata": {
    "id": "xtBk3YYhwrfY"
   },
   "source": [
    "##  Selection Sort"
   ]
  },
  {
   "cell_type": "code",
   "execution_count": null,
   "metadata": {},
   "outputs": [],
   "source": [
    "#implemente um código para o algoritmo apresentado nos slides da aula TP"
   ]
  },
  {
   "cell_type": "code",
   "execution_count": 11,
   "outputs": [],
   "source": [
    "def SelectionSort(L):\n",
    "    for i in range(len(L)):\n",
    "        for j in range(i, len(L)):\n",
    "            if L[i] > L[j]:\n",
    "                L[i],L[j] = L[j],L[i]\n",
    "    return L\n"
   ],
   "metadata": {
    "collapsed": false
   }
  },
  {
   "cell_type": "code",
   "execution_count": 12,
   "outputs": [
    {
     "name": "stdout",
     "output_type": "stream",
     "text": [
      "[0, 1, 2, 3, 4, 5, 6, 8, 8, 9]\n"
     ]
    }
   ],
   "source": [
    "L = [1,5,4,8,6,0,9,8,2,3]\n",
    "print(SelectionSort(L))"
   ],
   "metadata": {
    "collapsed": false
   }
  },
  {
   "cell_type": "markdown",
   "metadata": {},
   "source": [
    "##  Insertion Sort"
   ]
  },
  {
   "cell_type": "markdown",
   "metadata": {
    "id": "bzgGEBClwrfY"
   },
   "source": [
    "Esta é a implementação dos exercícios do final do notebook da aula passada que usa a lógica: \"colocar o elemento da posição atual no local onde fica em ordem, para trás (para a esquerda desta posição)\"  \n",
    "\n",
    "Começando pelo início, insere um elemento de cada vez. Esta implementação não é muito eficiente (porquê?)..."
   ]
  },
  {
   "cell_type": "code",
   "execution_count": 13,
   "metadata": {
    "id": "5idujZbHwrfZ"
   },
   "outputs": [],
   "source": [
    "def naiveInsertionSort(A):\n",
    "    B = [None for i in range(len(A))] # B is a blank list of the same length as A\n",
    "    for x in A:\n",
    "        for i in range(len(B)):\n",
    "            if B[i] == None or B[i] > x:\n",
    "                # then x goes in spot i, and we should move everything over.\n",
    "                j = len(B)-1\n",
    "                while j > i:\n",
    "                    B[j] = B[j-1]\n",
    "                    j -= 1\n",
    "                B[i] = x\n",
    "                break # okay we are done placing x\n",
    "    return B"
   ]
  },
  {
   "cell_type": "markdown",
   "metadata": {
    "id": "Wl7WrUWNwrfZ"
   },
   "source": [
    "Verificação que está a funcionar:"
   ]
  },
  {
   "cell_type": "code",
   "execution_count": 14,
   "metadata": {
    "id": "DfDZ0lj9wrfZ",
    "outputId": "0764fbad-7fcf-441e-9949-c357957115af"
   },
   "outputs": [
    {
     "name": "stdout",
     "output_type": "stream",
     "text": [
      "[3, 4, 5, 6, 8]\n"
     ]
    }
   ],
   "source": [
    "A = [6,4,3,8,5]\n",
    "B = naiveInsertionSort(A)\n",
    "print(B)\n",
    "#This assertion can be made using a native Python comand: look it up!"
   ]
  },
  {
   "cell_type": "markdown",
   "metadata": {
    "id": "m9oIxh6zwrfa"
   },
   "source": [
    "Claro que podemos executar o ordenamento in-place (o que é mais habitual)."
   ]
  },
  {
   "cell_type": "code",
   "execution_count": 17,
   "metadata": {
    "id": "8d2j__zmwrfa"
   },
   "outputs": [],
   "source": [
    "def InsertionSort(A):\n",
    "    for i in range(1,len(A)):\n",
    "        current = A[i]\n",
    "        j = i-1\n",
    "        while j >= 0 and A[j] > current:\n",
    "            A[j+1] = A[j]\n",
    "            j -= 1\n",
    "        A[j+1] = current"
   ]
  },
  {
   "cell_type": "markdown",
   "metadata": {
    "id": "tD7kT4aSwrfa"
   },
   "source": [
    "Vamos fazer o teste inicial:"
   ]
  },
  {
   "cell_type": "code",
   "execution_count": 18,
   "metadata": {
    "id": "2eUzkqu6wrfb",
    "outputId": "ba7095d0-faa3-464b-aef4-eda15ce8b231"
   },
   "outputs": [
    {
     "name": "stdout",
     "output_type": "stream",
     "text": [
      "[3, 4, 5, 6, 8]\n"
     ]
    }
   ],
   "source": [
    "A = [6,4,3,8,5]\n",
    "InsertionSort(A)\n",
    "print(A)"
   ]
  },
  {
   "cell_type": "markdown",
   "metadata": {
    "id": "vyHqQjaVwrfb"
   },
   "source": [
    "Podemos testar com vários inputs!  \n",
    "(**Nota**: esta não é a *prova* formal (nem informal) de correção!\n",
    "Apenas estamos a testar com instanciações de inputs diferentes)"
   ]
  },
  {
   "cell_type": "code",
   "execution_count": 20,
   "metadata": {
    "id": "mKJyqyBzwrfb",
    "outputId": "57951270-cb5e-44a3-c1c4-0fe2f0f178c4"
   },
   "outputs": [
    {
     "name": "stdout",
     "output_type": "stream",
     "text": [
      "YES IT IS SORTED!\n",
      "YES IT IS SORTED!\n",
      "YES IT IS SORTED!\n",
      "YES IT IS SORTED!\n",
      "YES IT IS SORTED!\n",
      "YES IT IS SORTED!\n",
      "YES IT IS SORTED!\n",
      "YES IT IS SORTED!\n",
      "YES IT IS SORTED!\n",
      "YES IT IS SORTED!\n",
      "YES IT IS SORTED!\n",
      "YES IT IS SORTED!\n",
      "YES IT IS SORTED!\n",
      "YES IT IS SORTED!\n",
      "YES IT IS SORTED!\n",
      "YES IT IS SORTED!\n",
      "YES IT IS SORTED!\n",
      "YES IT IS SORTED!\n",
      "YES IT IS SORTED!\n",
      "YES IT IS SORTED!\n",
      "YES IT IS SORTED!\n",
      "YES IT IS SORTED!\n",
      "YES IT IS SORTED!\n",
      "YES IT IS SORTED!\n",
      "YES IT IS SORTED!\n",
      "YES IT IS SORTED!\n",
      "YES IT IS SORTED!\n",
      "YES IT IS SORTED!\n",
      "YES IT IS SORTED!\n",
      "YES IT IS SORTED!\n",
      "YES IT IS SORTED!\n",
      "YES IT IS SORTED!\n",
      "YES IT IS SORTED!\n",
      "YES IT IS SORTED!\n",
      "YES IT IS SORTED!\n",
      "YES IT IS SORTED!\n",
      "YES IT IS SORTED!\n",
      "YES IT IS SORTED!\n",
      "YES IT IS SORTED!\n",
      "YES IT IS SORTED!\n",
      "YES IT IS SORTED!\n",
      "YES IT IS SORTED!\n",
      "YES IT IS SORTED!\n",
      "YES IT IS SORTED!\n",
      "YES IT IS SORTED!\n",
      "YES IT IS SORTED!\n",
      "YES IT IS SORTED!\n",
      "YES IT IS SORTED!\n",
      "YES IT IS SORTED!\n",
      "YES IT IS SORTED!\n",
      "YES IT IS SORTED!\n",
      "YES IT IS SORTED!\n",
      "YES IT IS SORTED!\n",
      "YES IT IS SORTED!\n",
      "YES IT IS SORTED!\n",
      "YES IT IS SORTED!\n",
      "YES IT IS SORTED!\n",
      "YES IT IS SORTED!\n",
      "YES IT IS SORTED!\n",
      "YES IT IS SORTED!\n",
      "YES IT IS SORTED!\n",
      "YES IT IS SORTED!\n",
      "YES IT IS SORTED!\n",
      "YES IT IS SORTED!\n",
      "YES IT IS SORTED!\n",
      "YES IT IS SORTED!\n",
      "YES IT IS SORTED!\n",
      "YES IT IS SORTED!\n",
      "YES IT IS SORTED!\n",
      "YES IT IS SORTED!\n",
      "YES IT IS SORTED!\n",
      "YES IT IS SORTED!\n",
      "YES IT IS SORTED!\n",
      "YES IT IS SORTED!\n",
      "YES IT IS SORTED!\n",
      "YES IT IS SORTED!\n",
      "YES IT IS SORTED!\n",
      "YES IT IS SORTED!\n",
      "YES IT IS SORTED!\n",
      "YES IT IS SORTED!\n",
      "YES IT IS SORTED!\n",
      "YES IT IS SORTED!\n",
      "YES IT IS SORTED!\n",
      "YES IT IS SORTED!\n",
      "YES IT IS SORTED!\n",
      "YES IT IS SORTED!\n",
      "YES IT IS SORTED!\n",
      "YES IT IS SORTED!\n",
      "YES IT IS SORTED!\n",
      "YES IT IS SORTED!\n",
      "YES IT IS SORTED!\n",
      "YES IT IS SORTED!\n",
      "YES IT IS SORTED!\n",
      "YES IT IS SORTED!\n",
      "YES IT IS SORTED!\n",
      "YES IT IS SORTED!\n",
      "YES IT IS SORTED!\n",
      "YES IT IS SORTED!\n",
      "YES IT IS SORTED!\n",
      "YES IT IS SORTED!\n"
     ]
    }
   ],
   "source": [
    "def is_sorted(A):\n",
    "    for i in range(len(A) - 1):\n",
    "        if A[i] > A[i+1]:\n",
    "            return False\n",
    "    return True\n",
    "\n",
    "A = [1,2,3,4,5,6,7,8,9,10]\n",
    "for trial in range(100):\n",
    "    shuffle(A)\n",
    "    InsertionSort(A)\n",
    "    if is_sorted(A):\n",
    "        print('YES IT IS SORTED!')"
   ]
  },
  {
   "cell_type": "markdown",
   "metadata": {
    "id": "b-KNmUtqwrfc"
   },
   "source": [
    "Bom, parecem funcionar. Para ter a certeza, falaremos como na aula TP.  \n",
    "\n",
    "Qual é mais rápido?"
   ]
  },
  {
   "cell_type": "code",
   "execution_count": 23,
   "metadata": {
    "id": "nJVwecd2wrfc"
   },
   "outputs": [],
   "source": [
    "from testar import tryItABunch2\n",
    "nValuesNaive, tValuesNaive = tryItABunch2( naiveInsertionSort, startN = 50, endN = 1050, stepSize=50, numTrials=10, listMax = 10 )\n",
    "nValues, tValues = tryItABunch2( InsertionSort, startN = 50, endN = 1050, stepSize=50, numTrials=5, listMax = 10)\n",
    "nValuesSel, tValuesSel = tryItABunch2( SelectionSort, startN = 50, endN = 1050, stepSize=50, numTrials=5, listMax = 10)"
   ]
  },
  {
   "cell_type": "code",
   "execution_count": 24,
   "metadata": {
    "id": "_rxI1cQ1wrfc",
    "outputId": "73ae0d2d-5ada-42fa-baac-e9d8cd72926f"
   },
   "outputs": [
    {
     "data": {
      "text/plain": "Text(0.5, 1.0, 'Naive vs. non-naive insertion sort')"
     },
     "execution_count": 24,
     "metadata": {},
     "output_type": "execute_result"
    },
    {
     "data": {
      "text/plain": "<Figure size 640x480 with 1 Axes>",
      "image/png": "[encoded data removed]"
     },
     "metadata": {},
     "output_type": "display_data"
    }
   ],
   "source": [
    "plt.plot(nValuesNaive, tValuesNaive, color=\"red\", label=\"Naive version\")\n",
    "plt.plot(nValues, tValues, color=\"blue\", label=\"Less naive version\")\n",
    "plt.plot(nValuesSel, tValuesSel, color=\"yellow\", label=\"SelectionSort\")\n",
    "plt.xlabel(\"n\")\n",
    "plt.ylabel(\"Time(ms)\")\n",
    "plt.legend()\n",
    "plt.title(\"Naive vs. non-naive insertion sort\")\n"
   ]
  },
  {
   "cell_type": "code",
   "execution_count": 25,
   "metadata": {},
   "outputs": [
    {
     "ename": "SyntaxError",
     "evalue": "invalid syntax (2645142619.py, line 1)",
     "output_type": "error",
     "traceback": [
      "\u001B[1;36m  Cell \u001B[1;32mIn[25], line 1\u001B[1;36m\u001B[0m\n\u001B[1;33m    Estude o número de comparações (no pior dos casos) de cada algoritmo para explicar este comportament\u001B[0m\n\u001B[1;37m           ^\u001B[0m\n\u001B[1;31mSyntaxError\u001B[0m\u001B[1;31m:\u001B[0m invalid syntax\n"
     ]
    }
   ],
   "source": [
    "Estude o número de comparações (no pior dos casos) de cada algoritmo para explicar este comportament"
   ]
  },
  {
   "cell_type": "code",
   "execution_count": 26,
   "outputs": [],
   "source": [
    "def naiveInsertionSortComp(A):\n",
    "    c=0\n",
    "    B = [None for i in range(len(A))] # B is a blank list of the same length as A\n",
    "    for x in A:\n",
    "        for i in range(len(B)):\n",
    "            c+=2\n",
    "            if B[i] == None or B[i] > x:\n",
    "                # then x goes in spot i, and we should move everything over.\n",
    "                j = len(B)-1\n",
    "                c+=1\n",
    "                while j > i:\n",
    "                    c+=1\n",
    "                    B[j] = B[j-1]\n",
    "                    j -= 1\n",
    "                B[i] = x\n",
    "                break # okay we are done placing x\n",
    "    return c\n",
    "\n",
    "def InsertionSortComp(A):\n",
    "    c=0\n",
    "    for i in range(1,len(A)):\n",
    "        current = A[i]\n",
    "        j = i-1\n",
    "\n",
    "        while j >= 0 and A[j] > current:\n",
    "            c+=2\n",
    "            A[j+1] = A[j]\n",
    "            j -= 1\n",
    "        A[j+1] = current\n",
    "    return c + 2\n",
    "\n",
    "def SelectionSortComp(L):\n",
    "    c=0\n",
    "    for i in range(len(L)):\n",
    "        for j in range(i, len(L)):\n",
    "            c+=1\n",
    "            if L[i] > L[j]:\n",
    "                L[i],L[j] = L[j],L[i]\n",
    "    return c\n",
    "\n"
   ],
   "metadata": {
    "collapsed": false
   }
  },
  {
   "cell_type": "code",
   "execution_count": 28,
   "outputs": [],
   "source": [
    "import time\n",
    "from random import choice\n",
    "def tryItABunchComp(myFn, startN=10, endN=100, stepSize=10, numTrials=20, listMax = 10):\n",
    "    nValues = []\n",
    "    tValues = []\n",
    "    for n in range(startN, endN, stepSize):\n",
    "        # run myFn several times and average to get a decent idea.\n",
    "        c = 0\n",
    "        for t in range(numTrials):\n",
    "            lst = [ choice(range(listMax)) for i in range(n) ] # generate a *random* list of length n\n",
    "            c = myFn( lst )\n",
    "        nValues.append(n)\n",
    "        tValues.append(c)\n",
    "    return nValues, tValues"
   ],
   "metadata": {
    "collapsed": false
   }
  },
  {
   "cell_type": "code",
   "execution_count": 29,
   "outputs": [],
   "source": [
    "nValuesNaive, tValuesNaive = tryItABunchComp( naiveInsertionSortComp, startN = 50, endN = 1050, stepSize=50, numTrials=10, listMax = 10 )\n",
    "nValues, tValues = tryItABunchComp( InsertionSortComp, startN = 50, endN = 1050, stepSize=50, numTrials=5, listMax = 10)\n",
    "nValuesSel, tValuesSel = tryItABunchComp( SelectionSortComp, startN = 50, endN = 1050, stepSize=50, numTrials=5, listMax = 10)\n"
   ],
   "metadata": {
    "collapsed": false
   }
  },
  {
   "cell_type": "code",
   "execution_count": 31,
   "outputs": [
    {
     "data": {
      "text/plain": "Text(0.5, 1.0, 'Naive vs In-Place vs Selection Comparations')"
     },
     "execution_count": 31,
     "metadata": {},
     "output_type": "execute_result"
    },
    {
     "data": {
      "text/plain": "<Figure size 640x480 with 1 Axes>",
      "image/png": "[encoded data removed]"
     },
     "metadata": {},
     "output_type": "display_data"
    }
   ],
   "source": [
    "plt.plot(nValuesNaive, tValuesNaive, color=\"red\", label=\"Naive version\")\n",
    "plt.plot(nValues, tValues, color=\"blue\", label=\"Less naive version\")\n",
    "plt.plot(nValuesSel, tValuesSel, color=\"yellow\", label=\"SelectionSort\")\n",
    "plt.xlabel(\"n\")\n",
    "plt.ylabel(\"Comparations\")\n",
    "plt.legend()\n",
    "plt.title(\"Naive vs In-Place vs Selection Comparations\")"
   ],
   "metadata": {
    "collapsed": false
   }
  },
  {
   "cell_type": "code",
   "execution_count": null,
   "outputs": [],
   "source": [],
   "metadata": {
    "collapsed": false
   }
  }
 ],
 "metadata": {
  "colab": {
   "provenance": []
  },
  "kernelspec": {
   "display_name": "Python 3",
   "language": "python",
   "name": "python3"
  },
  "language_info": {
   "codemirror_mode": {
    "name": "ipython",
    "version": 3
   },
   "file_extension": ".py",
   "mimetype": "text/x-python",
   "name": "python",
   "nbconvert_exporter": "python",
   "pygments_lexer": "ipython3",
   "version": "3.7.4"
  }
 },
 "nbformat": 4,
 "nbformat_minor": 1
}
